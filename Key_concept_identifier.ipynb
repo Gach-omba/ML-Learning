{
  "nbformat": 4,
  "nbformat_minor": 0,
  "metadata": {
    "colab": {
      "provenance": []
    },
    "kernelspec": {
      "name": "python3",
      "display_name": "Python 3"
    },
    "language_info": {
      "name": "python"
    }
  },
  "cells": [
    {
      "cell_type": "code",
      "execution_count": 5,
      "metadata": {
        "id": "o3LC1n_YpbK8"
      },
      "outputs": [],
      "source": [
        "import spacy\n",
        "from collections import Counter"
      ]
    },
    {
      "cell_type": "code",
      "source": [
        "nlp=spacy.load(\"en_core_web_sm\")"
      ],
      "metadata": {
        "id": "2IpXp6kjpwys"
      },
      "execution_count": 2,
      "outputs": []
    },
    {
      "cell_type": "code",
      "source": [
        "text = \"Albert Einstein developed the theory of relativity while working at the Swiss Patent Office in Bern. He received the 1921 Nobel Prize in Physics 'for his services to theoretical physics, and especially for his discovery of the law of the photoelectric effect'.\"\n",
        "doc = nlp(text)\n",
        "for entity in doc.ents:\n",
        "  print(f\"Named Entity: {entity.text} - Label: {entity.label_}\")\n",
        "# Keyword Extraction (using TF-IDF with spaCy)\n",
        "# Keyword Extraction (TF-IDF like approach with word frequency)\n",
        "word_counts = Counter(token.text.lower() for token in doc if not token.is_stop)  # Exclude stopwords\n",
        "\n",
        "# Extract top keywords based on frequency\n",
        "keywords = word_counts.most_common(5)\n",
        "print(\"\\nTop Keywords:\")\n",
        "for word, count in keywords:\n",
        "  print(word)"
      ],
      "metadata": {
        "colab": {
          "base_uri": "https://localhost:8080/"
        },
        "id": "byFxy2xhp4K3",
        "outputId": "609458e6-4c88-4157-9f48-7d32aeef7e73"
      },
      "execution_count": 6,
      "outputs": [
        {
          "output_type": "stream",
          "name": "stdout",
          "text": [
            "Named Entity: Albert Einstein - Label: PERSON\n",
            "Named Entity: the Swiss Patent Office - Label: ORG\n",
            "Named Entity: Bern - Label: ORG\n",
            "Named Entity: 1921 - Label: DATE\n",
            "Named Entity: Nobel Prize in Physics ' - Label: WORK_OF_ART\n",
            "\n",
            "Top Keywords:\n",
            ".\n",
            "physics\n",
            "'\n",
            "albert\n",
            "einstein\n"
          ]
        }
      ]
    }
  ]
}