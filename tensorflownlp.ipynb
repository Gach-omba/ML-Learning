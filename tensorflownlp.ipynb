{
  "nbformat": 4,
  "nbformat_minor": 0,
  "metadata": {
    "colab": {
      "provenance": []
    },
    "kernelspec": {
      "name": "python3",
      "display_name": "Python 3"
    },
    "language_info": {
      "name": "python"
    }
  },
  "cells": [
    {
      "cell_type": "code",
      "execution_count": 1,
      "metadata": {
        "colab": {
          "base_uri": "https://localhost:8080/"
        },
        "id": "SZk_8OcdeeSk",
        "outputId": "fd1263c0-21b2-4303-d8d0-2e03e23bc03e"
      },
      "outputs": [
        {
          "output_type": "stream",
          "name": "stdout",
          "text": [
            "{'<OOV>': 1, 'my': 2, 'love': 3, 'dog': 4, 'i': 5, 'you': 6, 'cat': 7, 'do': 8, 'think': 9, 'would': 10, 'win': 11, 'a': 12, 'contest': 13}\n"
          ]
        }
      ],
      "source": [
        "# 1. tokenization in tensorflow\n",
        "import tensorflow as tf\n",
        "from tensorflow import keras\n",
        "from tensorflow.keras.preprocessing.text import Tokenizer\n",
        "# to deal with text input of different size we need to add a few things. This will enables training in neural networks\n",
        "from tensorflow.keras.preprocessing.sequence import pad_sequences\n",
        "sentences=['I love my dog',\n",
        "           'I love my cat',\n",
        "           'You love my dog!',\n",
        "           'Do you think my dog would win a contest?']\n",
        "tokenizer=Tokenizer(num_words=100,oov_token=\"<OOV>\") # maximum number of words to keep (most common)\n",
        "tokenizer.fit_on_texts(sentences)\n",
        "word_index=tokenizer.word_index\n",
        "print(word_index)"
      ]
    },
    {
      "cell_type": "code",
      "source": [
        "# 2. representing sentences as a sequence of numbers in order\n",
        "\n",
        "sequences=tokenizer.texts_to_sequences(sentences)\n",
        "# add padding\n",
        "# we want a mechanism where we can handle text the tokenizer has never seen before. We therefore use oov\n",
        "padded= pad_sequences(sequences)\n",
        "# to have padding zeros at the end of the sentence:\n",
        "padded=pad_sequences(sequences,padding='post')\n",
        "# if you don't want the max length of the padding to be the same size as the largest text you can use maxlen\n",
        "padded=pad_sequences(sequences,padding='post',maxlen=5)\n",
        "# if sentences are longer than the max length, you can chop off either side using truncating\n",
        "padded=pad_sequences(sequences,padding='post',truncating='pre',maxlen=5)\n",
        "\n",
        "print(sequences)\n",
        "print(padded)\n"
      ],
      "metadata": {
        "colab": {
          "base_uri": "https://localhost:8080/"
        },
        "id": "foB9lqoigGSl",
        "outputId": "aada0a8b-03dc-4a08-ec87-ebfcea702cb3"
      },
      "execution_count": 2,
      "outputs": [
        {
          "output_type": "stream",
          "name": "stdout",
          "text": [
            "[[5, 3, 2, 4], [5, 3, 2, 7], [6, 3, 2, 4], [8, 6, 9, 2, 4, 10, 11, 12, 13]]\n",
            "[[ 5  3  2  4  0]\n",
            " [ 5  3  2  7  0]\n",
            " [ 6  3  2  4  0]\n",
            " [ 4 10 11 12 13]]\n"
          ]
        }
      ]
    },
    {
      "cell_type": "code",
      "source": [
        "# 3. training a neural net to classify text as to whether the text is sarcastic or not\n",
        "\n",
        "import json\n",
        "\n",
        "with open('sarcasm.json','r') as f:\n",
        "    lines = f.readlines()\n",
        "    s = '['\n",
        "    for line in lines:\n",
        "        #each line already had a '\\n' so I had to strip it out, add a comma, and put the '\\n' back in\n",
        "        s+= line[:-1] +',\\n'\n",
        "    #the last line will have an extra ',\\n' which we need to get rid of and cap with a ']'\n",
        "    s= s[:-2]+']'\n",
        "with open('sarcasm.json', 'w') as f:\n",
        "    f.write(s)\n",
        "\n",
        "with open('sarcasm.json', 'r') as f:\n",
        "    datastore = json.load(f)\n",
        "sentences=[]\n",
        "labels=[]\n",
        "urls=[]\n",
        "\n",
        "for item in datastore:\n",
        "  sentences.append(item['headline'])\n",
        "  labels.append(item['is_sarcastic'])\n",
        "  urls.append(item['article_link'])"
      ],
      "metadata": {
        "id": "iAU_pG0-oGvd"
      },
      "execution_count": 4,
      "outputs": []
    },
    {
      "cell_type": "code",
      "source": [
        "# adding the tokenizers\n",
        "from tensorflow.keras.preprocessing.text import Tokenizer\n",
        "from tensorflow.keras.preprocessing.sequence import pad_sequences\n",
        "# tokenizer=Tokenizer(oov_token='<OOV>')\n",
        "# tokenizer.fit_on_texts(sentences)\n",
        "# word_index=tokenizer.word_index\n",
        "\n",
        "# sequences=tokenizer.texts_to_sequences(sentences)\n",
        "# padded=pad_sequences(sequences,padding='post')\n",
        "# print(padded[0])\n",
        "# print(padded.shape)\n",
        "# We need to make sure we only tokenize the training sentences"
      ],
      "metadata": {
        "id": "RrxN9SVHo6kd"
      },
      "execution_count": 5,
      "outputs": []
    },
    {
      "cell_type": "code",
      "source": [
        "# we need to have training and testing data so we have to split up our dataset\n",
        "training_size=20000\n",
        "training_sentences=sentences[0:training_size]\n",
        "testing_sentences=sentences[training_size:]\n",
        "training_labels=labels[0:training_size]\n",
        "testing_labels=labels[training_size:]"
      ],
      "metadata": {
        "id": "PRoyQLaPqZdf"
      },
      "execution_count": 6,
      "outputs": []
    },
    {
      "cell_type": "code",
      "source": [
        "# we need to make sure we only tokenize the training sentences to ensure the neural net has no access to test data\n",
        "vocab_size=10000\n",
        "oov_tok='<OOV>'\n",
        "max_length=100\n",
        "padding_type='post'\n",
        "trunc_type='post'\n",
        "tokenizer=Tokenizer(num_words=vocab_size,oov_token=oov_tok)\n",
        "tokenizer.fit_on_texts(training_sentences) # fit tokenizer only on the training set\n",
        "word_index= tokenizer.word_index\n",
        "training_sequences=tokenizer.texts_to_sequences(training_sentences) # create training sequences and pad them\n",
        "training_padding=pad_sequences(training_sequences,maxlen=max_length,\n",
        "                               padding=padding_type,truncating=trunc_type)\n",
        "testing_sequences=tokenizer.texts_to_sequences(testing_sentences) # create testing sequences and pad them\n",
        "testing_padding=pad_sequences(testing_sequences,maxlen=max_length,\n",
        "                              padding=padding_type, truncating=trunc_type)"
      ],
      "metadata": {
        "id": "Fa35kY3dr6_F"
      },
      "execution_count": 7,
      "outputs": []
    },
    {
      "cell_type": "code",
      "execution_count": 8,
      "metadata": {
        "id": "GrAlWBKf99Ya"
      },
      "outputs": [],
      "source": [
        "# Need this block to get it to work with TensorFlow 2.x\n",
        "import numpy as np\n",
        "training_padded = np.array(training_padding)\n",
        "training_labels = np.array(training_labels)\n",
        "testing_padded = np.array(testing_padding)\n",
        "testing_labels = np.array(testing_labels)"
      ]
    },
    {
      "cell_type": "code",
      "source": [
        "# creating the vector embeddings\n",
        "# updating from normal neural net to LSTM to handle context\n",
        "embedding_dim=32\n",
        "model=tf.keras.Sequential([\n",
        "    tf.keras.layers.Embedding(vocab_size,64),\n",
        "    tf.keras.layers.Bidirectional(tf.keras.layers.LSTM(64)), # The numeric parameter is the number of hidden nodes ( dimension of the output)\n",
        "    #Bidirectinal looks at the both forwards and backwards and picks the best parameter and merges them\n",
        "    tf.keras.layers.Dense(64,activation='relu'),\n",
        "    tf.keras.layers.Dense(1,activation='sigmoid')\n",
        "])\n",
        "model.compile(loss='binary_crossentropy',optimizer='adam',metrics=['accuracy'])"
      ],
      "metadata": {
        "id": "lhbJA3G8uoMI"
      },
      "execution_count": 13,
      "outputs": []
    },
    {
      "cell_type": "code",
      "source": [
        "model.summary() # there are 128 in each layer since we are doing bidirectional"
      ],
      "metadata": {
        "colab": {
          "base_uri": "https://localhost:8080/"
        },
        "id": "U2_OY8BmvSOU",
        "outputId": "3632c969-0e97-4546-b7aa-54c783a76bc9"
      },
      "execution_count": 14,
      "outputs": [
        {
          "output_type": "stream",
          "name": "stdout",
          "text": [
            "Model: \"sequential_1\"\n",
            "_________________________________________________________________\n",
            " Layer (type)                Output Shape              Param #   \n",
            "=================================================================\n",
            " embedding_1 (Embedding)     (None, None, 64)          640000    \n",
            "                                                                 \n",
            " bidirectional_1 (Bidirecti  (None, 128)               66048     \n",
            " onal)                                                           \n",
            "                                                                 \n",
            " dense_2 (Dense)             (None, 64)                8256      \n",
            "                                                                 \n",
            " dense_3 (Dense)             (None, 1)                 65        \n",
            "                                                                 \n",
            "=================================================================\n",
            "Total params: 714369 (2.73 MB)\n",
            "Trainable params: 714369 (2.73 MB)\n",
            "Non-trainable params: 0 (0.00 Byte)\n",
            "_________________________________________________________________\n"
          ]
        }
      ]
    },
    {
      "cell_type": "code",
      "source": [
        "# training the model\n",
        "num_epochs=30\n",
        "history=model.fit(training_padding,training_labels,epochs=num_epochs,\n",
        "                  validation_data=(testing_padding,testing_labels),verbose=2)"
      ],
      "metadata": {
        "colab": {
          "base_uri": "https://localhost:8080/"
        },
        "id": "B1AkFAVswEVC",
        "outputId": "18fc00d1-2bc0-43a6-9c11-fc96211fc277"
      },
      "execution_count": null,
      "outputs": [
        {
          "output_type": "stream",
          "name": "stdout",
          "text": [
            "Epoch 1/30\n"
          ]
        }
      ]
    },
    {
      "cell_type": "code",
      "source": [
        "# testing the model with unseen text\n",
        "sentence=[\n",
        "    \"granny starting to fear spiders in the garden might be real\",\n",
        "    \"the weather today is bright and sunny\"\n",
        "]\n",
        "sequences=tokenizer.texts_to_sequences(sentence)\n",
        "padded=pad_sequences(sequences,maxlen=max_length,\n",
        "                     padding=padding_type,\n",
        "                     truncating=trunc_type)\n",
        "print(model.predict(padded))"
      ],
      "metadata": {
        "colab": {
          "base_uri": "https://localhost:8080/"
        },
        "id": "MnQVYySCyrjE",
        "outputId": "72727401-929a-458f-9a4c-21b2083828fe"
      },
      "execution_count": null,
      "outputs": [
        {
          "output_type": "stream",
          "name": "stdout",
          "text": [
            "1/1 [==============================] - 0s 50ms/step\n",
            "[[8.4652942e-01]\n",
            " [3.0046047e-06]]\n"
          ]
        }
      ]
    }
  ]
}