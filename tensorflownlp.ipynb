{
  "nbformat": 4,
  "nbformat_minor": 0,
  "metadata": {
    "colab": {
      "provenance": []
    },
    "kernelspec": {
      "name": "python3",
      "display_name": "Python 3"
    },
    "language_info": {
      "name": "python"
    }
  },
  "cells": [
    {
      "cell_type": "code",
      "execution_count": 8,
      "metadata": {
        "colab": {
          "base_uri": "https://localhost:8080/"
        },
        "id": "SZk_8OcdeeSk",
        "outputId": "ed1b9ea1-48da-43c2-83fd-ea2618ac08af"
      },
      "outputs": [
        {
          "output_type": "stream",
          "name": "stdout",
          "text": [
            "{'<OOV>': 1, 'my': 2, 'love': 3, 'dog': 4, 'i': 5, 'you': 6, 'cat': 7, 'do': 8, 'think': 9, 'would': 10, 'win': 11, 'a': 12, 'contest': 13}\n"
          ]
        }
      ],
      "source": [
        "# 1. tokenization in tensorflow\n",
        "import tensorflow as tf\n",
        "from tensorflow import keras\n",
        "from tensorflow.keras.preprocessing.text import Tokenizer\n",
        "# to deal with text input of different size we need to add a few things. This will enables training in neural networks\n",
        "from tensorflow.keras.preprocessing.sequence import pad_sequences\n",
        "sentences=['I love my dog',\n",
        "           'I love my cat',\n",
        "           'You love my dog!',\n",
        "           'Do you think my dog would win a contest?']\n",
        "tokenizer=Tokenizer(num_words=100,oov_token=\"<OOV>\") # maximum number of words to keep (most common)\n",
        "tokenizer.fit_on_texts(sentences)\n",
        "word_index=tokenizer.word_index\n",
        "print(word_index)"
      ]
    },
    {
      "cell_type": "code",
      "source": [
        "# 2. representing sentences as a sequence of numbers in order\n",
        "\n",
        "sequences=tokenizer.texts_to_sequences(sentences)\n",
        "# add padding\n",
        "# we want a mechanism where we can handle text the tokenizer has never seen before. We therefore use oov\n",
        "padded= pad_sequences(sequences)\n",
        "# to have padding zeros at the end of the sentence:\n",
        "padded=pad_sequences(sequences,padding='post')\n",
        "# if you don't want the max length of the padding to be the same size as the largest text you can use maxlen\n",
        "padded=pad_sequences(sequences,padding='post',maxlen=5)\n",
        "# if sentences are longer than the max length, you can chop off either side using truncating\n",
        "padded=pad_sequences(sequences,padding='post',truncating='pre',maxlen=5)\n",
        "\n",
        "print(sequences)\n",
        "print(padded)\n"
      ],
      "metadata": {
        "colab": {
          "base_uri": "https://localhost:8080/"
        },
        "id": "foB9lqoigGSl",
        "outputId": "3bd77cfb-a639-4b83-c274-8e4cc2e0736e"
      },
      "execution_count": 11,
      "outputs": [
        {
          "output_type": "stream",
          "name": "stdout",
          "text": [
            "[[5, 3, 2, 4], [5, 3, 2, 7], [6, 3, 2, 4], [8, 6, 9, 2, 4, 10, 11, 12, 13]]\n",
            "[[ 5  3  2  4  0]\n",
            " [ 5  3  2  7  0]\n",
            " [ 6  3  2  4  0]\n",
            " [ 4 10 11 12 13]]\n"
          ]
        }
      ]
    },
    {
      "cell_type": "code",
      "source": [
        "# 3. training a neural net to classify text as to whether the text is sarcastic or not\n",
        "\n",
        "import json\n",
        "\n",
        "with open('sarcasm.json','r') as f:\n",
        "    lines = f.readlines()\n",
        "    s = '['\n",
        "    for line in lines:\n",
        "        #each line already had a '\\n' so I had to strip it out, add a comma, and put the '\\n' back in\n",
        "        s+= line[:-1] +',\\n'\n",
        "    #the last line will have an extra ',\\n' which we need to get rid of and cap with a ']'\n",
        "    s= s[:-2]+']'\n",
        "with open('sarcasm.json', 'w') as f:\n",
        "    f.write(s)\n",
        "\n",
        "with open('sarcasm.json', 'r') as f:\n",
        "    datastore = json.load(f)\n",
        "sentences=[]\n",
        "labels=[]\n",
        "urls=[]\n",
        "\n",
        "for item in datastore:\n",
        "  sentences.append(item['headline'])\n",
        "  labels.append(item['is_sarcastic'])\n",
        "  urls.append(item['article_link'])"
      ],
      "metadata": {
        "id": "iAU_pG0-oGvd"
      },
      "execution_count": 13,
      "outputs": []
    },
    {
      "cell_type": "code",
      "source": [
        "# adding the tokenizers\n",
        "from tensorflow.keras.preprocessing.text import Tokenizer\n",
        "from tensorflow.keras.preprocessing.sequence import pad_sequences\n",
        "# tokenizer=Tokenizer(oov_token='<OOV>')\n",
        "# tokenizer.fit_on_texts(sentences)\n",
        "# word_index=tokenizer.word_index\n",
        "\n",
        "# sequences=tokenizer.texts_to_sequences(sentences)\n",
        "# padded=pad_sequences(sequences,padding='post')\n",
        "# print(padded[0])\n",
        "# print(padded.shape)\n",
        "# We need to make sure we only tokenize the training sentences"
      ],
      "metadata": {
        "colab": {
          "base_uri": "https://localhost:8080/"
        },
        "id": "RrxN9SVHo6kd",
        "outputId": "b7fd1802-03b1-41df-9cb7-6cb8ca7ea7f5"
      },
      "execution_count": 14,
      "outputs": [
        {
          "output_type": "stream",
          "name": "stdout",
          "text": [
            "[  308 15115   679  3337  2298    48   382  2576 15116     6  2577  8434\n",
            "     0     0     0     0     0     0     0     0     0     0     0     0\n",
            "     0     0     0     0     0     0     0     0     0     0     0     0\n",
            "     0     0     0     0]\n",
            "(26709, 40)\n"
          ]
        }
      ]
    },
    {
      "cell_type": "code",
      "source": [
        "# we need to have training and testing data so we have to split up our dataset\n",
        "training_size=20000\n",
        "training_sentences=sentences[0:training_size]\n",
        "testing_sentences=sentences[training_size:]\n",
        "training_labels=labels[0:training_size]\n",
        "testing_labels=labels[training_size:]"
      ],
      "metadata": {
        "id": "PRoyQLaPqZdf"
      },
      "execution_count": 19,
      "outputs": []
    },
    {
      "cell_type": "code",
      "source": [
        "# we need to make sure we only tokenize the training sentences to ensure the neural net has no access to test data\n",
        "vocab_size=300\n",
        "oov_tok='<OOV>'\n",
        "max_length=100\n",
        "padding_type='post'\n",
        "trunc_type='post'\n",
        "tokenizer=Tokenizer(num_words=vocab_size,oov_token=oov_tok)\n",
        "tokenizer.fit_on_texts(training_sentences) # fit tokenizer only on the training set\n",
        "word_index= tokenizer.word_index\n",
        "training_sequences=tokenizer.texts_to_sequences(training_sentences) # create training sequences and pad them\n",
        "training_padding=pad_sequences(training_sequences,maxlen=max_length,\n",
        "                               padding=padding_type,truncating=trunc_type)\n",
        "testing_sequences=tokenizer.texts_to_sequences(testing_sentences) # create testing sequences and pad them\n",
        "testing_padding=pad_sequences(testing_sequences,maxlen=max_length,\n",
        "                              padding=padding_type, truncating=trunc_type)"
      ],
      "metadata": {
        "id": "Fa35kY3dr6_F"
      },
      "execution_count": 20,
      "outputs": []
    },
    {
      "cell_type": "code",
      "execution_count": 28,
      "metadata": {
        "id": "GrAlWBKf99Ya"
      },
      "outputs": [],
      "source": [
        "# Need this block to get it to work with TensorFlow 2.x\n",
        "import numpy as np\n",
        "training_padded = np.array(training_padding)\n",
        "training_labels = np.array(training_labels)\n",
        "testing_padded = np.array(testing_padding)\n",
        "testing_labels = np.array(testing_labels)"
      ]
    },
    {
      "cell_type": "code",
      "source": [
        "# creating the vector embeddings\n",
        "embedding_dim=32\n",
        "model=tf.keras.Sequential([\n",
        "    tf.keras.layers.Embedding(vocab_size,embedding_dim,input_length=max_length),\n",
        "    tf.keras.layers.GlobalAveragePooling1D(), # simply adding up the vectors to get the general direction\n",
        "    tf.keras.layers.Dense(24,activation='relu'),\n",
        "    tf.keras.layers.Dense(1,activation='sigmoid')\n",
        "])\n",
        "model.compile(loss='binary_crossentropy',optimizer='adam',metrics=['accuracy'])"
      ],
      "metadata": {
        "id": "lhbJA3G8uoMI"
      },
      "execution_count": 31,
      "outputs": []
    },
    {
      "cell_type": "code",
      "source": [
        "# training the model\n",
        "num_epochs=30\n",
        "history=model.fit(training_padding,training_labels,epochs=num_epochs,\n",
        "                  validation_data=(testing_padding,testing_labels),verbose=2)"
      ],
      "metadata": {
        "colab": {
          "base_uri": "https://localhost:8080/"
        },
        "id": "B1AkFAVswEVC",
        "outputId": "de3bbea6-10d4-4fc2-89f1-f246e1c390ff"
      },
      "execution_count": 32,
      "outputs": [
        {
          "output_type": "stream",
          "name": "stdout",
          "text": [
            "Epoch 1/30\n",
            "625/625 - 2s - loss: 0.6395 - accuracy: 0.6217 - val_loss: 0.5219 - val_accuracy: 0.7441 - 2s/epoch - 3ms/step\n",
            "Epoch 2/30\n",
            "625/625 - 1s - loss: 0.4742 - accuracy: 0.7687 - val_loss: 0.4587 - val_accuracy: 0.7749 - 1s/epoch - 2ms/step\n",
            "Epoch 3/30\n",
            "625/625 - 1s - loss: 0.4485 - accuracy: 0.7810 - val_loss: 0.4824 - val_accuracy: 0.7591 - 1s/epoch - 2ms/step\n",
            "Epoch 4/30\n",
            "625/625 - 1s - loss: 0.4423 - accuracy: 0.7850 - val_loss: 0.4539 - val_accuracy: 0.7821 - 1s/epoch - 2ms/step\n",
            "Epoch 5/30\n",
            "625/625 - 1s - loss: 0.4394 - accuracy: 0.7860 - val_loss: 0.4518 - val_accuracy: 0.7843 - 980ms/epoch - 2ms/step\n",
            "Epoch 6/30\n",
            "625/625 - 1s - loss: 0.4370 - accuracy: 0.7874 - val_loss: 0.4487 - val_accuracy: 0.7797 - 1s/epoch - 2ms/step\n",
            "Epoch 7/30\n",
            "625/625 - 2s - loss: 0.4369 - accuracy: 0.7861 - val_loss: 0.4501 - val_accuracy: 0.7757 - 2s/epoch - 2ms/step\n",
            "Epoch 8/30\n",
            "625/625 - 1s - loss: 0.4367 - accuracy: 0.7854 - val_loss: 0.4487 - val_accuracy: 0.7785 - 1s/epoch - 2ms/step\n",
            "Epoch 9/30\n",
            "625/625 - 1s - loss: 0.4361 - accuracy: 0.7882 - val_loss: 0.4561 - val_accuracy: 0.7700 - 1s/epoch - 2ms/step\n",
            "Epoch 10/30\n",
            "625/625 - 1s - loss: 0.4358 - accuracy: 0.7859 - val_loss: 0.4494 - val_accuracy: 0.7746 - 1s/epoch - 2ms/step\n",
            "Epoch 11/30\n",
            "625/625 - 1s - loss: 0.4348 - accuracy: 0.7866 - val_loss: 0.4495 - val_accuracy: 0.7813 - 1s/epoch - 2ms/step\n",
            "Epoch 12/30\n",
            "625/625 - 1s - loss: 0.4367 - accuracy: 0.7857 - val_loss: 0.4479 - val_accuracy: 0.7766 - 1s/epoch - 2ms/step\n",
            "Epoch 13/30\n",
            "625/625 - 1s - loss: 0.4355 - accuracy: 0.7875 - val_loss: 0.4475 - val_accuracy: 0.7769 - 1s/epoch - 2ms/step\n",
            "Epoch 14/30\n",
            "625/625 - 1s - loss: 0.4359 - accuracy: 0.7871 - val_loss: 0.4514 - val_accuracy: 0.7715 - 1s/epoch - 2ms/step\n",
            "Epoch 15/30\n",
            "625/625 - 1s - loss: 0.4344 - accuracy: 0.7871 - val_loss: 0.4476 - val_accuracy: 0.7763 - 1s/epoch - 2ms/step\n",
            "Epoch 16/30\n",
            "625/625 - 1s - loss: 0.4357 - accuracy: 0.7863 - val_loss: 0.4493 - val_accuracy: 0.7757 - 1s/epoch - 2ms/step\n",
            "Epoch 17/30\n",
            "625/625 - 2s - loss: 0.4344 - accuracy: 0.7866 - val_loss: 0.4519 - val_accuracy: 0.7719 - 2s/epoch - 2ms/step\n",
            "Epoch 18/30\n",
            "625/625 - 1s - loss: 0.4348 - accuracy: 0.7879 - val_loss: 0.4474 - val_accuracy: 0.7793 - 1s/epoch - 2ms/step\n",
            "Epoch 19/30\n",
            "625/625 - 1s - loss: 0.4338 - accuracy: 0.7862 - val_loss: 0.4470 - val_accuracy: 0.7764 - 1s/epoch - 2ms/step\n",
            "Epoch 20/30\n",
            "625/625 - 1s - loss: 0.4347 - accuracy: 0.7861 - val_loss: 0.4561 - val_accuracy: 0.7787 - 1s/epoch - 2ms/step\n",
            "Epoch 21/30\n",
            "625/625 - 1s - loss: 0.4343 - accuracy: 0.7864 - val_loss: 0.4468 - val_accuracy: 0.7772 - 1s/epoch - 2ms/step\n",
            "Epoch 22/30\n",
            "625/625 - 1s - loss: 0.4345 - accuracy: 0.7873 - val_loss: 0.4553 - val_accuracy: 0.7785 - 1s/epoch - 2ms/step\n",
            "Epoch 23/30\n",
            "625/625 - 1s - loss: 0.4338 - accuracy: 0.7901 - val_loss: 0.4538 - val_accuracy: 0.7794 - 1s/epoch - 2ms/step\n",
            "Epoch 24/30\n",
            "625/625 - 1s - loss: 0.4341 - accuracy: 0.7878 - val_loss: 0.4488 - val_accuracy: 0.7822 - 1s/epoch - 2ms/step\n",
            "Epoch 25/30\n",
            "625/625 - 1s - loss: 0.4337 - accuracy: 0.7866 - val_loss: 0.4464 - val_accuracy: 0.7791 - 1s/epoch - 2ms/step\n",
            "Epoch 26/30\n",
            "625/625 - 1s - loss: 0.4328 - accuracy: 0.7886 - val_loss: 0.4464 - val_accuracy: 0.7763 - 1s/epoch - 2ms/step\n",
            "Epoch 27/30\n",
            "625/625 - 2s - loss: 0.4338 - accuracy: 0.7858 - val_loss: 0.4540 - val_accuracy: 0.7795 - 2s/epoch - 2ms/step\n",
            "Epoch 28/30\n",
            "625/625 - 1s - loss: 0.4316 - accuracy: 0.7900 - val_loss: 0.4460 - val_accuracy: 0.7785 - 1s/epoch - 2ms/step\n",
            "Epoch 29/30\n",
            "625/625 - 1s - loss: 0.4322 - accuracy: 0.7886 - val_loss: 0.4467 - val_accuracy: 0.7810 - 1s/epoch - 2ms/step\n",
            "Epoch 30/30\n",
            "625/625 - 1s - loss: 0.4326 - accuracy: 0.7869 - val_loss: 0.4470 - val_accuracy: 0.7818 - 1s/epoch - 2ms/step\n"
          ]
        }
      ]
    },
    {
      "cell_type": "code",
      "source": [],
      "metadata": {
        "id": "MnQVYySCyrjE"
      },
      "execution_count": null,
      "outputs": []
    }
  ]
}