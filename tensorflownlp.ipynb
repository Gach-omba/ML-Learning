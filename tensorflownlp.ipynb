{
  "nbformat": 4,
  "nbformat_minor": 0,
  "metadata": {
    "colab": {
      "provenance": []
    },
    "kernelspec": {
      "name": "python3",
      "display_name": "Python 3"
    },
    "language_info": {
      "name": "python"
    }
  },
  "cells": [
    {
      "cell_type": "code",
      "execution_count": 8,
      "metadata": {
        "colab": {
          "base_uri": "https://localhost:8080/"
        },
        "id": "SZk_8OcdeeSk",
        "outputId": "ed1b9ea1-48da-43c2-83fd-ea2618ac08af"
      },
      "outputs": [
        {
          "output_type": "stream",
          "name": "stdout",
          "text": [
            "{'<OOV>': 1, 'my': 2, 'love': 3, 'dog': 4, 'i': 5, 'you': 6, 'cat': 7, 'do': 8, 'think': 9, 'would': 10, 'win': 11, 'a': 12, 'contest': 13}\n"
          ]
        }
      ],
      "source": [
        "# 1. tokenization in tensorflow\n",
        "import tensorflow as tf\n",
        "from tensorflow import keras\n",
        "from tensorflow.keras.preprocessing.text import Tokenizer\n",
        "# to deal with text input of different size we need to add a few things. This will enables training in neural networks\n",
        "from tensorflow.keras.preprocessing.sequence import pad_sequences\n",
        "sentences=['I love my dog',\n",
        "           'I love my cat',\n",
        "           'You love my dog!',\n",
        "           'Do you think my dog would win a contest?']\n",
        "tokenizer=Tokenizer(num_words=100,oov_token=\"<OOV>\") # maximum number of words to keep (most common)\n",
        "tokenizer.fit_on_texts(sentences)\n",
        "word_index=tokenizer.word_index\n",
        "print(word_index)"
      ]
    },
    {
      "cell_type": "code",
      "source": [
        "# 2. representing sentences as a sequence of numbers in order\n",
        "\n",
        "sequences=tokenizer.texts_to_sequences(sentences)\n",
        "# add padding\n",
        "# we want a mechanism where we can handle text the tokenizer has never seen before. We therefore use oov\n",
        "padded= pad_sequences(sequences)\n",
        "# to have padding zeros at the end of the sentence:\n",
        "padded=pad_sequences(sequences,padding='post')\n",
        "# if you don't want the max length of the padding to be the same size as the largest text you can use maxlen\n",
        "padded=pad_sequences(sequences,padding='post',maxlen=5)\n",
        "# if sentences are longer than the max length, you can chop off either side using truncating\n",
        "padded=pad_sequences(sequences,padding='post',truncating='pre',maxlen=5)\n",
        "\n",
        "print(sequences)\n",
        "print(padded)\n"
      ],
      "metadata": {
        "colab": {
          "base_uri": "https://localhost:8080/"
        },
        "id": "foB9lqoigGSl",
        "outputId": "3bd77cfb-a639-4b83-c274-8e4cc2e0736e"
      },
      "execution_count": 11,
      "outputs": [
        {
          "output_type": "stream",
          "name": "stdout",
          "text": [
            "[[5, 3, 2, 4], [5, 3, 2, 7], [6, 3, 2, 4], [8, 6, 9, 2, 4, 10, 11, 12, 13]]\n",
            "[[ 5  3  2  4  0]\n",
            " [ 5  3  2  7  0]\n",
            " [ 6  3  2  4  0]\n",
            " [ 4 10 11 12 13]]\n"
          ]
        }
      ]
    },
    {
      "cell_type": "code",
      "source": [
        "# 3. training a neural net to classify text as to whether the text is sarcastic or not\n",
        "\n",
        "import json\n",
        "\n",
        "with open('sarcasm.json','r') as f:\n",
        "    lines = f.readlines()\n",
        "    s = '['\n",
        "    for line in lines:\n",
        "        #each line already had a '\\n' so I had to strip it out, add a comma, and put the '\\n' back in\n",
        "        s+= line[:-1] +',\\n'\n",
        "    #the last line will have an extra ',\\n' which we need to get rid of and cap with a ']'\n",
        "    s= s[:-2]+']'\n",
        "with open('sarcasm.json', 'w') as f:\n",
        "    f.write(s)\n",
        "\n",
        "with open('sarcasm.json', 'r') as f:\n",
        "    datastore = json.load(f)\n",
        "sentences=[]\n",
        "labels=[]\n",
        "urls=[]\n",
        "\n",
        "for item in datastore:\n",
        "  sentences.append(item['headline'])\n",
        "  labels.append(item['is_sarcastic'])\n",
        "  urls.append(item['article_link'])"
      ],
      "metadata": {
        "id": "iAU_pG0-oGvd"
      },
      "execution_count": 13,
      "outputs": []
    },
    {
      "cell_type": "code",
      "source": [
        "# adding the tokenizers\n",
        "from tensorflow.keras.preprocessing.text import Tokenizer\n",
        "from tensorflow.keras.preprocessing.sequence import pad_sequences\n",
        "# tokenizer=Tokenizer(oov_token='<OOV>')\n",
        "# tokenizer.fit_on_texts(sentences)\n",
        "# word_index=tokenizer.word_index\n",
        "\n",
        "# sequences=tokenizer.texts_to_sequences(sentences)\n",
        "# padded=pad_sequences(sequences,padding='post')\n",
        "# print(padded[0])\n",
        "# print(padded.shape)\n",
        "# We need to make sure we only tokenize the training sentences"
      ],
      "metadata": {
        "colab": {
          "base_uri": "https://localhost:8080/"
        },
        "id": "RrxN9SVHo6kd",
        "outputId": "b7fd1802-03b1-41df-9cb7-6cb8ca7ea7f5"
      },
      "execution_count": 14,
      "outputs": [
        {
          "output_type": "stream",
          "name": "stdout",
          "text": [
            "[  308 15115   679  3337  2298    48   382  2576 15116     6  2577  8434\n",
            "     0     0     0     0     0     0     0     0     0     0     0     0\n",
            "     0     0     0     0     0     0     0     0     0     0     0     0\n",
            "     0     0     0     0]\n",
            "(26709, 40)\n"
          ]
        }
      ]
    },
    {
      "cell_type": "code",
      "source": [
        "# we need to have training and testing data so we have to split up our dataset\n",
        "training_size=20000\n",
        "training_sentences=sentences[0:training_size]\n",
        "testing_sentences=sentences[training_size:]\n",
        "training_labels=labels[0:training_size]\n",
        "testing_labels=labels[training_size:]"
      ],
      "metadata": {
        "id": "PRoyQLaPqZdf"
      },
      "execution_count": 19,
      "outputs": []
    },
    {
      "cell_type": "code",
      "source": [
        "# we need to make sure we only tokenize the training sentences to ensure the neural net has no access to test data\n",
        "vocab_size=10000\n",
        "oov_tok='<OOV>'\n",
        "max_length=100\n",
        "padding_type='post'\n",
        "trunc_type='post'\n",
        "tokenizer=Tokenizer(num_words=vocab_size,oov_token=oov_tok)\n",
        "tokenizer.fit_on_texts(training_sentences) # fit tokenizer only on the training set\n",
        "word_index= tokenizer.word_index\n",
        "training_sequences=tokenizer.texts_to_sequences(training_sentences) # create training sequences and pad them\n",
        "training_padding=pad_sequences(training_sequences,maxlen=max_length,\n",
        "                               padding=padding_type,truncating=trunc_type)\n",
        "testing_sequences=tokenizer.texts_to_sequences(testing_sentences) # create testing sequences and pad them\n",
        "testing_padding=pad_sequences(testing_sequences,maxlen=max_length,\n",
        "                              padding=padding_type, truncating=trunc_type)"
      ],
      "metadata": {
        "id": "Fa35kY3dr6_F"
      },
      "execution_count": 34,
      "outputs": []
    },
    {
      "cell_type": "code",
      "execution_count": 35,
      "metadata": {
        "id": "GrAlWBKf99Ya"
      },
      "outputs": [],
      "source": [
        "# Need this block to get it to work with TensorFlow 2.x\n",
        "import numpy as np\n",
        "training_padded = np.array(training_padding)\n",
        "training_labels = np.array(training_labels)\n",
        "testing_padded = np.array(testing_padding)\n",
        "testing_labels = np.array(testing_labels)"
      ]
    },
    {
      "cell_type": "code",
      "source": [
        "# creating the vector embeddings\n",
        "embedding_dim=32\n",
        "model=tf.keras.Sequential([\n",
        "    tf.keras.layers.Embedding(vocab_size,embedding_dim,input_length=max_length),\n",
        "    tf.keras.layers.GlobalAveragePooling1D(), # simply adding up the vectors to get the general direction\n",
        "    tf.keras.layers.Dense(24,activation='relu'),\n",
        "    tf.keras.layers.Dense(1,activation='sigmoid')\n",
        "])\n",
        "model.compile(loss='binary_crossentropy',optimizer='adam',metrics=['accuracy'])"
      ],
      "metadata": {
        "id": "lhbJA3G8uoMI"
      },
      "execution_count": 36,
      "outputs": []
    },
    {
      "cell_type": "code",
      "source": [
        "# training the model\n",
        "num_epochs=30\n",
        "history=model.fit(training_padding,training_labels,epochs=num_epochs,\n",
        "                  validation_data=(testing_padding,testing_labels),verbose=2)"
      ],
      "metadata": {
        "colab": {
          "base_uri": "https://localhost:8080/"
        },
        "id": "B1AkFAVswEVC",
        "outputId": "1d3c64bd-8d98-4a6d-efe6-fe136f511879"
      },
      "execution_count": 37,
      "outputs": [
        {
          "output_type": "stream",
          "name": "stdout",
          "text": [
            "Epoch 1/30\n",
            "625/625 - 3s - loss: 0.6547 - accuracy: 0.6008 - val_loss: 0.5428 - val_accuracy: 0.7169 - 3s/epoch - 4ms/step\n",
            "Epoch 2/30\n",
            "625/625 - 2s - loss: 0.3948 - accuracy: 0.8440 - val_loss: 0.3688 - val_accuracy: 0.8460 - 2s/epoch - 3ms/step\n",
            "Epoch 3/30\n",
            "625/625 - 2s - loss: 0.2907 - accuracy: 0.8850 - val_loss: 0.3475 - val_accuracy: 0.8529 - 2s/epoch - 3ms/step\n",
            "Epoch 4/30\n",
            "625/625 - 2s - loss: 0.2404 - accuracy: 0.9049 - val_loss: 0.3406 - val_accuracy: 0.8550 - 2s/epoch - 3ms/step\n",
            "Epoch 5/30\n",
            "625/625 - 3s - loss: 0.2061 - accuracy: 0.9212 - val_loss: 0.3482 - val_accuracy: 0.8514 - 3s/epoch - 4ms/step\n",
            "Epoch 6/30\n",
            "625/625 - 2s - loss: 0.1806 - accuracy: 0.9304 - val_loss: 0.3659 - val_accuracy: 0.8544 - 2s/epoch - 3ms/step\n",
            "Epoch 7/30\n",
            "625/625 - 2s - loss: 0.1596 - accuracy: 0.9396 - val_loss: 0.3765 - val_accuracy: 0.8536 - 2s/epoch - 3ms/step\n",
            "Epoch 8/30\n",
            "625/625 - 2s - loss: 0.1401 - accuracy: 0.9488 - val_loss: 0.4108 - val_accuracy: 0.8433 - 2s/epoch - 3ms/step\n",
            "Epoch 9/30\n",
            "625/625 - 2s - loss: 0.1264 - accuracy: 0.9549 - val_loss: 0.4249 - val_accuracy: 0.8475 - 2s/epoch - 3ms/step\n",
            "Epoch 10/30\n",
            "625/625 - 3s - loss: 0.1143 - accuracy: 0.9612 - val_loss: 0.4462 - val_accuracy: 0.8453 - 3s/epoch - 4ms/step\n",
            "Epoch 11/30\n",
            "625/625 - 2s - loss: 0.1018 - accuracy: 0.9650 - val_loss: 0.4748 - val_accuracy: 0.8433 - 2s/epoch - 3ms/step\n",
            "Epoch 12/30\n",
            "625/625 - 2s - loss: 0.0931 - accuracy: 0.9685 - val_loss: 0.5132 - val_accuracy: 0.8383 - 2s/epoch - 3ms/step\n",
            "Epoch 13/30\n",
            "625/625 - 2s - loss: 0.0839 - accuracy: 0.9717 - val_loss: 0.5354 - val_accuracy: 0.8393 - 2s/epoch - 3ms/step\n",
            "Epoch 14/30\n",
            "625/625 - 2s - loss: 0.0755 - accuracy: 0.9746 - val_loss: 0.5926 - val_accuracy: 0.8323 - 2s/epoch - 3ms/step\n",
            "Epoch 15/30\n",
            "625/625 - 2s - loss: 0.0682 - accuracy: 0.9779 - val_loss: 0.6039 - val_accuracy: 0.8357 - 2s/epoch - 3ms/step\n",
            "Epoch 16/30\n",
            "625/625 - 3s - loss: 0.0621 - accuracy: 0.9800 - val_loss: 0.6645 - val_accuracy: 0.8281 - 3s/epoch - 4ms/step\n",
            "Epoch 17/30\n",
            "625/625 - 2s - loss: 0.0568 - accuracy: 0.9826 - val_loss: 0.6823 - val_accuracy: 0.8314 - 2s/epoch - 3ms/step\n",
            "Epoch 18/30\n",
            "625/625 - 2s - loss: 0.0523 - accuracy: 0.9840 - val_loss: 0.7204 - val_accuracy: 0.8269 - 2s/epoch - 3ms/step\n",
            "Epoch 19/30\n",
            "625/625 - 2s - loss: 0.0465 - accuracy: 0.9851 - val_loss: 0.7614 - val_accuracy: 0.8241 - 2s/epoch - 3ms/step\n",
            "Epoch 20/30\n",
            "625/625 - 2s - loss: 0.0443 - accuracy: 0.9860 - val_loss: 0.7987 - val_accuracy: 0.8250 - 2s/epoch - 3ms/step\n",
            "Epoch 21/30\n",
            "625/625 - 3s - loss: 0.0401 - accuracy: 0.9875 - val_loss: 0.8343 - val_accuracy: 0.8232 - 3s/epoch - 4ms/step\n",
            "Epoch 22/30\n",
            "625/625 - 2s - loss: 0.0378 - accuracy: 0.9886 - val_loss: 0.8728 - val_accuracy: 0.8205 - 2s/epoch - 3ms/step\n",
            "Epoch 23/30\n",
            "625/625 - 2s - loss: 0.0341 - accuracy: 0.9895 - val_loss: 0.9600 - val_accuracy: 0.8144 - 2s/epoch - 3ms/step\n",
            "Epoch 24/30\n",
            "625/625 - 2s - loss: 0.0307 - accuracy: 0.9905 - val_loss: 0.9710 - val_accuracy: 0.8144 - 2s/epoch - 3ms/step\n",
            "Epoch 25/30\n",
            "625/625 - 2s - loss: 0.0273 - accuracy: 0.9923 - val_loss: 1.0145 - val_accuracy: 0.8149 - 2s/epoch - 3ms/step\n",
            "Epoch 26/30\n",
            "625/625 - 3s - loss: 0.0275 - accuracy: 0.9919 - val_loss: 1.0575 - val_accuracy: 0.8111 - 3s/epoch - 4ms/step\n",
            "Epoch 27/30\n",
            "625/625 - 2s - loss: 0.0260 - accuracy: 0.9916 - val_loss: 1.0703 - val_accuracy: 0.8140 - 2s/epoch - 4ms/step\n",
            "Epoch 28/30\n",
            "625/625 - 2s - loss: 0.0225 - accuracy: 0.9930 - val_loss: 1.1158 - val_accuracy: 0.8113 - 2s/epoch - 3ms/step\n",
            "Epoch 29/30\n",
            "625/625 - 2s - loss: 0.0215 - accuracy: 0.9936 - val_loss: 1.1481 - val_accuracy: 0.8120 - 2s/epoch - 3ms/step\n",
            "Epoch 30/30\n",
            "625/625 - 2s - loss: 0.0196 - accuracy: 0.9942 - val_loss: 1.2497 - val_accuracy: 0.8083 - 2s/epoch - 3ms/step\n"
          ]
        }
      ]
    },
    {
      "cell_type": "code",
      "source": [
        "# testing the model with unseen text\n",
        "sentence=[\n",
        "    \"granny starting to fear spiders in the garden might be real\",\n",
        "    \"the weather today is bright and sunny\"\n",
        "]\n",
        "sequences=tokenizer.texts_to_sequences(sentence)\n",
        "padded=pad_sequences(sequences,maxlen=max_length,\n",
        "                     padding=padding_type,\n",
        "                     truncating=trunc_type)\n",
        "print(model.predict(padded))"
      ],
      "metadata": {
        "colab": {
          "base_uri": "https://localhost:8080/"
        },
        "id": "MnQVYySCyrjE",
        "outputId": "72727401-929a-458f-9a4c-21b2083828fe"
      },
      "execution_count": 38,
      "outputs": [
        {
          "output_type": "stream",
          "name": "stdout",
          "text": [
            "1/1 [==============================] - 0s 50ms/step\n",
            "[[8.4652942e-01]\n",
            " [3.0046047e-06]]\n"
          ]
        }
      ]
    }
  ]
}