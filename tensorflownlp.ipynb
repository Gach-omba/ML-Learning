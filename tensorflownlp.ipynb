{
  "nbformat": 4,
  "nbformat_minor": 0,
  "metadata": {
    "colab": {
      "provenance": []
    },
    "kernelspec": {
      "name": "python3",
      "display_name": "Python 3"
    },
    "language_info": {
      "name": "python"
    }
  },
  "cells": [
    {
      "cell_type": "code",
      "execution_count": 1,
      "metadata": {
        "colab": {
          "base_uri": "https://localhost:8080/"
        },
        "id": "SZk_8OcdeeSk",
        "outputId": "fd1263c0-21b2-4303-d8d0-2e03e23bc03e"
      },
      "outputs": [
        {
          "output_type": "stream",
          "name": "stdout",
          "text": [
            "{'<OOV>': 1, 'my': 2, 'love': 3, 'dog': 4, 'i': 5, 'you': 6, 'cat': 7, 'do': 8, 'think': 9, 'would': 10, 'win': 11, 'a': 12, 'contest': 13}\n"
          ]
        }
      ],
      "source": [
        "# 1. tokenization in tensorflow\n",
        "import tensorflow as tf\n",
        "from tensorflow import keras\n",
        "from tensorflow.keras.preprocessing.text import Tokenizer\n",
        "# to deal with text input of different size we need to add a few things. This will enables training in neural networks\n",
        "from tensorflow.keras.preprocessing.sequence import pad_sequences\n",
        "sentences=['I love my dog',\n",
        "           'I love my cat',\n",
        "           'You love my dog!',\n",
        "           'Do you think my dog would win a contest?']\n",
        "tokenizer=Tokenizer(num_words=100,oov_token=\"<OOV>\") # maximum number of words to keep (most common)\n",
        "tokenizer.fit_on_texts(sentences)\n",
        "word_index=tokenizer.word_index\n",
        "print(word_index)"
      ]
    },
    {
      "cell_type": "code",
      "source": [
        "# 2. representing sentences as a sequence of numbers in order\n",
        "\n",
        "sequences=tokenizer.texts_to_sequences(sentences)\n",
        "# add padding\n",
        "# we want a mechanism where we can handle text the tokenizer has never seen before. We therefore use oov\n",
        "padded= pad_sequences(sequences)\n",
        "# to have padding zeros at the end of the sentence:\n",
        "padded=pad_sequences(sequences,padding='post')\n",
        "# if you don't want the max length of the padding to be the same size as the largest text you can use maxlen\n",
        "padded=pad_sequences(sequences,padding='post',maxlen=5)\n",
        "# if sentences are longer than the max length, you can chop off either side using truncating\n",
        "padded=pad_sequences(sequences,padding='post',truncating='pre',maxlen=5)\n",
        "\n",
        "print(sequences)\n",
        "print(padded)\n"
      ],
      "metadata": {
        "colab": {
          "base_uri": "https://localhost:8080/"
        },
        "id": "foB9lqoigGSl",
        "outputId": "aada0a8b-03dc-4a08-ec87-ebfcea702cb3"
      },
      "execution_count": 2,
      "outputs": [
        {
          "output_type": "stream",
          "name": "stdout",
          "text": [
            "[[5, 3, 2, 4], [5, 3, 2, 7], [6, 3, 2, 4], [8, 6, 9, 2, 4, 10, 11, 12, 13]]\n",
            "[[ 5  3  2  4  0]\n",
            " [ 5  3  2  7  0]\n",
            " [ 6  3  2  4  0]\n",
            " [ 4 10 11 12 13]]\n"
          ]
        }
      ]
    },
    {
      "cell_type": "code",
      "source": [
        "# 3. training a neural net to classify text as to whether the text is sarcastic or not\n",
        "\n",
        "import json\n",
        "\n",
        "with open('sarcasm.json','r') as f:\n",
        "    lines = f.readlines()\n",
        "    s = '['\n",
        "    for line in lines:\n",
        "        #each line already had a '\\n' so I had to strip it out, add a comma, and put the '\\n' back in\n",
        "        s+= line[:-1] +',\\n'\n",
        "    #the last line will have an extra ',\\n' which we need to get rid of and cap with a ']'\n",
        "    s= s[:-2]+']'\n",
        "with open('sarcasm.json', 'w') as f:\n",
        "    f.write(s)\n",
        "\n",
        "with open('sarcasm.json', 'r') as f:\n",
        "    datastore = json.load(f)\n",
        "sentences=[]\n",
        "labels=[]\n",
        "urls=[]\n",
        "\n",
        "for item in datastore:\n",
        "  sentences.append(item['headline'])\n",
        "  labels.append(item['is_sarcastic'])\n",
        "  urls.append(item['article_link'])"
      ],
      "metadata": {
        "id": "iAU_pG0-oGvd"
      },
      "execution_count": 4,
      "outputs": []
    },
    {
      "cell_type": "code",
      "source": [
        "# adding the tokenizers\n",
        "from tensorflow.keras.preprocessing.text import Tokenizer\n",
        "from tensorflow.keras.preprocessing.sequence import pad_sequences\n",
        "# tokenizer=Tokenizer(oov_token='<OOV>')\n",
        "# tokenizer.fit_on_texts(sentences)\n",
        "# word_index=tokenizer.word_index\n",
        "\n",
        "# sequences=tokenizer.texts_to_sequences(sentences)\n",
        "# padded=pad_sequences(sequences,padding='post')\n",
        "# print(padded[0])\n",
        "# print(padded.shape)\n",
        "# We need to make sure we only tokenize the training sentences"
      ],
      "metadata": {
        "id": "RrxN9SVHo6kd"
      },
      "execution_count": 5,
      "outputs": []
    },
    {
      "cell_type": "code",
      "source": [
        "# we need to have training and testing data so we have to split up our dataset\n",
        "training_size=20000\n",
        "training_sentences=sentences[0:training_size]\n",
        "testing_sentences=sentences[training_size:]\n",
        "training_labels=labels[0:training_size]\n",
        "testing_labels=labels[training_size:]"
      ],
      "metadata": {
        "id": "PRoyQLaPqZdf"
      },
      "execution_count": 6,
      "outputs": []
    },
    {
      "cell_type": "code",
      "source": [
        "# we need to make sure we only tokenize the training sentences to ensure the neural net has no access to test data\n",
        "vocab_size=10000\n",
        "oov_tok='<OOV>'\n",
        "max_length=100\n",
        "padding_type='post'\n",
        "trunc_type='post'\n",
        "tokenizer=Tokenizer(num_words=vocab_size,oov_token=oov_tok)\n",
        "tokenizer.fit_on_texts(training_sentences) # fit tokenizer only on the training set\n",
        "word_index= tokenizer.word_index\n",
        "training_sequences=tokenizer.texts_to_sequences(training_sentences) # create training sequences and pad them\n",
        "training_padding=pad_sequences(training_sequences,maxlen=max_length,\n",
        "                               padding=padding_type,truncating=trunc_type)\n",
        "testing_sequences=tokenizer.texts_to_sequences(testing_sentences) # create testing sequences and pad them\n",
        "testing_padding=pad_sequences(testing_sequences,maxlen=max_length,\n",
        "                              padding=padding_type, truncating=trunc_type)"
      ],
      "metadata": {
        "id": "Fa35kY3dr6_F"
      },
      "execution_count": 7,
      "outputs": []
    },
    {
      "cell_type": "code",
      "execution_count": 8,
      "metadata": {
        "id": "GrAlWBKf99Ya"
      },
      "outputs": [],
      "source": [
        "# Need this block to get it to work with TensorFlow 2.x\n",
        "import numpy as np\n",
        "training_padded = np.array(training_padding)\n",
        "training_labels = np.array(training_labels)\n",
        "testing_padded = np.array(testing_padding)\n",
        "testing_labels = np.array(testing_labels)"
      ]
    },
    {
      "cell_type": "code",
      "source": [
        "# creating the vector embeddings\n",
        "# updating from normal neural net to LSTM to handle context\n",
        "# NB : Make sure you add return_sequences= True to all layers that are feeding to the other\n",
        "embedding_dim=32\n",
        "model=tf.keras.Sequential([\n",
        "    tf.keras.layers.Embedding(vocab_size,64),\n",
        "    tf.keras.layers.Bidirectional(tf.keras.layers.LSTM(64, return_sequences=True)), # The numeric parameter is the number of hidden nodes ( dimension of the output)\n",
        "    #Bidirectinal looks at the both forwards and backwards and picks the best parameter and merges them\n",
        "    tf.keras.layers.Bidirectional(tf.keras.LSTM(32)),\n",
        "    tf.keras.layers.Dense(64,activation='relu'),\n",
        "    tf.keras.layers.Dense(1,activation='sigmoid')\n",
        "])\n",
        "model.compile(loss='binary_crossentropy',optimizer='adam',metrics=['accuracy'])"
      ],
      "metadata": {
        "id": "lhbJA3G8uoMI"
      },
      "execution_count": 13,
      "outputs": []
    },
    {
      "cell_type": "code",
      "source": [
        "model.summary() # there are 128 in each layer since we are doing bidirectional"
      ],
      "metadata": {
        "colab": {
          "base_uri": "https://localhost:8080/"
        },
        "id": "U2_OY8BmvSOU",
        "outputId": "3632c969-0e97-4546-b7aa-54c783a76bc9"
      },
      "execution_count": 14,
      "outputs": [
        {
          "output_type": "stream",
          "name": "stdout",
          "text": [
            "Model: \"sequential_1\"\n",
            "_________________________________________________________________\n",
            " Layer (type)                Output Shape              Param #   \n",
            "=================================================================\n",
            " embedding_1 (Embedding)     (None, None, 64)          640000    \n",
            "                                                                 \n",
            " bidirectional_1 (Bidirecti  (None, 128)               66048     \n",
            " onal)                                                           \n",
            "                                                                 \n",
            " dense_2 (Dense)             (None, 64)                8256      \n",
            "                                                                 \n",
            " dense_3 (Dense)             (None, 1)                 65        \n",
            "                                                                 \n",
            "=================================================================\n",
            "Total params: 714369 (2.73 MB)\n",
            "Trainable params: 714369 (2.73 MB)\n",
            "Non-trainable params: 0 (0.00 Byte)\n",
            "_________________________________________________________________\n"
          ]
        }
      ]
    },
    {
      "cell_type": "code",
      "source": [
        "# training the model\n",
        "num_epochs=30\n",
        "history=model.fit(training_padding,training_labels,epochs=num_epochs,\n",
        "                  validation_data=(testing_padding,testing_labels),verbose=2)"
      ],
      "metadata": {
        "colab": {
          "base_uri": "https://localhost:8080/"
        },
        "id": "B1AkFAVswEVC",
        "outputId": "18fc00d1-2bc0-43a6-9c11-fc96211fc277"
      },
      "execution_count": 15,
      "outputs": [
        {
          "output_type": "stream",
          "name": "stdout",
          "text": [
            "Epoch 1/30\n",
            "625/625 - 65s - loss: 0.3910 - accuracy: 0.8111 - val_loss: 0.3195 - val_accuracy: 0.8597 - 65s/epoch - 104ms/step\n",
            "Epoch 2/30\n",
            "625/625 - 58s - loss: 0.1925 - accuracy: 0.9229 - val_loss: 0.3466 - val_accuracy: 0.8600 - 58s/epoch - 92ms/step\n",
            "Epoch 3/30\n",
            "625/625 - 57s - loss: 0.1069 - accuracy: 0.9624 - val_loss: 0.4383 - val_accuracy: 0.8502 - 57s/epoch - 91ms/step\n",
            "Epoch 4/30\n",
            "625/625 - 63s - loss: 0.0641 - accuracy: 0.9779 - val_loss: 0.5662 - val_accuracy: 0.8477 - 63s/epoch - 100ms/step\n",
            "Epoch 5/30\n",
            "625/625 - 58s - loss: 0.0357 - accuracy: 0.9886 - val_loss: 0.6463 - val_accuracy: 0.8386 - 58s/epoch - 94ms/step\n",
            "Epoch 6/30\n",
            "625/625 - 58s - loss: 0.0239 - accuracy: 0.9922 - val_loss: 0.7728 - val_accuracy: 0.8396 - 58s/epoch - 93ms/step\n",
            "Epoch 7/30\n",
            "625/625 - 73s - loss: 0.0179 - accuracy: 0.9942 - val_loss: 1.0506 - val_accuracy: 0.8289 - 73s/epoch - 117ms/step\n",
            "Epoch 8/30\n",
            "625/625 - 63s - loss: 0.0126 - accuracy: 0.9961 - val_loss: 0.9345 - val_accuracy: 0.8357 - 63s/epoch - 101ms/step\n",
            "Epoch 9/30\n",
            "625/625 - 63s - loss: 0.0114 - accuracy: 0.9962 - val_loss: 1.0388 - val_accuracy: 0.8287 - 63s/epoch - 101ms/step\n",
            "Epoch 10/30\n",
            "625/625 - 57s - loss: 0.0101 - accuracy: 0.9965 - val_loss: 0.9908 - val_accuracy: 0.8344 - 57s/epoch - 92ms/step\n",
            "Epoch 11/30\n",
            "625/625 - 63s - loss: 0.0080 - accuracy: 0.9973 - val_loss: 1.0747 - val_accuracy: 0.8299 - 63s/epoch - 101ms/step\n",
            "Epoch 12/30\n",
            "625/625 - 65s - loss: 0.0062 - accuracy: 0.9981 - val_loss: 1.1190 - val_accuracy: 0.8295 - 65s/epoch - 103ms/step\n",
            "Epoch 13/30\n",
            "625/625 - 60s - loss: 0.0025 - accuracy: 0.9991 - val_loss: 1.3065 - val_accuracy: 0.8313 - 60s/epoch - 96ms/step\n",
            "Epoch 14/30\n",
            "625/625 - 59s - loss: 0.0022 - accuracy: 0.9993 - val_loss: 1.2615 - val_accuracy: 0.8278 - 59s/epoch - 94ms/step\n",
            "Epoch 15/30\n",
            "625/625 - 63s - loss: 0.0055 - accuracy: 0.9980 - val_loss: 1.1608 - val_accuracy: 0.8295 - 63s/epoch - 101ms/step\n",
            "Epoch 16/30\n",
            "625/625 - 64s - loss: 0.0055 - accuracy: 0.9981 - val_loss: 1.2336 - val_accuracy: 0.8293 - 64s/epoch - 103ms/step\n",
            "Epoch 17/30\n",
            "625/625 - 63s - loss: 0.0073 - accuracy: 0.9975 - val_loss: 1.1777 - val_accuracy: 0.8348 - 63s/epoch - 100ms/step\n",
            "Epoch 18/30\n",
            "625/625 - 61s - loss: 0.0022 - accuracy: 0.9994 - val_loss: 1.3896 - val_accuracy: 0.8313 - 61s/epoch - 97ms/step\n",
            "Epoch 19/30\n",
            "625/625 - 63s - loss: 0.0045 - accuracy: 0.9990 - val_loss: 1.0890 - val_accuracy: 0.8348 - 63s/epoch - 101ms/step\n",
            "Epoch 20/30\n",
            "625/625 - 59s - loss: 0.0021 - accuracy: 0.9995 - val_loss: 1.2851 - val_accuracy: 0.8208 - 59s/epoch - 94ms/step\n",
            "Epoch 21/30\n",
            "625/625 - 58s - loss: 0.0043 - accuracy: 0.9987 - val_loss: 1.2563 - val_accuracy: 0.8357 - 58s/epoch - 94ms/step\n",
            "Epoch 22/30\n",
            "625/625 - 57s - loss: 0.0019 - accuracy: 0.9993 - val_loss: 1.3150 - val_accuracy: 0.8331 - 57s/epoch - 91ms/step\n",
            "Epoch 23/30\n",
            "625/625 - 57s - loss: 0.0017 - accuracy: 0.9995 - val_loss: 1.3379 - val_accuracy: 0.8238 - 57s/epoch - 91ms/step\n",
            "Epoch 24/30\n",
            "625/625 - 59s - loss: 0.0012 - accuracy: 0.9995 - val_loss: 1.4584 - val_accuracy: 0.8292 - 59s/epoch - 95ms/step\n",
            "Epoch 25/30\n",
            "625/625 - 63s - loss: 0.0011 - accuracy: 0.9995 - val_loss: 1.3817 - val_accuracy: 0.8292 - 63s/epoch - 100ms/step\n",
            "Epoch 26/30\n",
            "625/625 - 58s - loss: 0.0042 - accuracy: 0.9983 - val_loss: 1.1242 - val_accuracy: 0.8314 - 58s/epoch - 92ms/step\n",
            "Epoch 27/30\n",
            "625/625 - 58s - loss: 0.0015 - accuracy: 0.9994 - val_loss: 1.3958 - val_accuracy: 0.8284 - 58s/epoch - 92ms/step\n",
            "Epoch 28/30\n",
            "625/625 - 59s - loss: 8.3808e-04 - accuracy: 0.9995 - val_loss: 1.4218 - val_accuracy: 0.8302 - 59s/epoch - 94ms/step\n",
            "Epoch 29/30\n",
            "625/625 - 58s - loss: 9.2016e-04 - accuracy: 0.9996 - val_loss: 1.4215 - val_accuracy: 0.8261 - 58s/epoch - 92ms/step\n",
            "Epoch 30/30\n",
            "625/625 - 57s - loss: 6.7113e-04 - accuracy: 0.9997 - val_loss: 1.4576 - val_accuracy: 0.8244 - 57s/epoch - 92ms/step\n"
          ]
        }
      ]
    },
    {
      "cell_type": "code",
      "source": [
        "# testing the model with unseen text\n",
        "sentence=[\n",
        "    \"granny starting to fear spiders in the garden might be real\",\n",
        "    \"the weather today is bright and sunny\"\n",
        "]\n",
        "sequences=tokenizer.texts_to_sequences(sentence)\n",
        "padded=pad_sequences(sequences,maxlen=max_length,\n",
        "                     padding=padding_type,\n",
        "                     truncating=trunc_type)\n",
        "print(model.predict(padded))"
      ],
      "metadata": {
        "colab": {
          "base_uri": "https://localhost:8080/"
        },
        "id": "MnQVYySCyrjE",
        "outputId": "1ecbaad3-66e8-42a9-aaae-fa443f7b1ee3"
      },
      "execution_count": 16,
      "outputs": [
        {
          "output_type": "stream",
          "name": "stdout",
          "text": [
            "1/1 [==============================] - 1s 1s/step\n",
            "[[7.8271485e-05]\n",
            " [1.3868976e-13]]\n"
          ]
        }
      ]
    }
  ]
}