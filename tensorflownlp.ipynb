{
  "nbformat": 4,
  "nbformat_minor": 0,
  "metadata": {
    "colab": {
      "provenance": []
    },
    "kernelspec": {
      "name": "python3",
      "display_name": "Python 3"
    },
    "language_info": {
      "name": "python"
    }
  },
  "cells": [
    {
      "cell_type": "code",
      "execution_count": 8,
      "metadata": {
        "colab": {
          "base_uri": "https://localhost:8080/"
        },
        "id": "SZk_8OcdeeSk",
        "outputId": "ed1b9ea1-48da-43c2-83fd-ea2618ac08af"
      },
      "outputs": [
        {
          "output_type": "stream",
          "name": "stdout",
          "text": [
            "{'<OOV>': 1, 'my': 2, 'love': 3, 'dog': 4, 'i': 5, 'you': 6, 'cat': 7, 'do': 8, 'think': 9, 'would': 10, 'win': 11, 'a': 12, 'contest': 13}\n"
          ]
        }
      ],
      "source": [
        "# 1. tokenization in tensorflow\n",
        "import tensorflow as tf\n",
        "from tensorflow import keras\n",
        "from tensorflow.keras.preprocessing.text import Tokenizer\n",
        "# to deal with text input of different size we need to add a few things. This will enables training in neural networks\n",
        "from tensorflow.keras.preprocessing.sequence import pad_sequences\n",
        "sentences=['I love my dog',\n",
        "           'I love my cat',\n",
        "           'You love my dog!',\n",
        "           'Do you think my dog would win a contest?']\n",
        "tokenizer=Tokenizer(num_words=100,oov_token=\"<OOV>\") # maximum number of words to keep (most common)\n",
        "tokenizer.fit_on_texts(sentences)\n",
        "word_index=tokenizer.word_index\n",
        "print(word_index)"
      ]
    },
    {
      "cell_type": "code",
      "source": [
        "# 2. representing sentences as a sequence of numbers in order\n",
        "\n",
        "sequences=tokenizer.texts_to_sequences(sentences)\n",
        "# add padding\n",
        "# we want a mechanism where we can handle text the tokenizer has never seen before. We therefore use oov\n",
        "padded= pad_sequences(sequences)\n",
        "# to have padding zeros at the end of the sentence:\n",
        "padded=pad_sequences(sequences,padding='post')\n",
        "# if you don't want the max length of the padding to be the same size as the largest text you can use maxlen\n",
        "padded=pad_sequences(sequences,padding='post',maxlen=5)\n",
        "# if sentences are longer than the max length, you can chop off either side using truncating\n",
        "padded=pad_sequences(sequences,padding='post',truncating='pre',maxlen=5)\n",
        "\n",
        "print(sequences)\n",
        "print(padded)\n"
      ],
      "metadata": {
        "colab": {
          "base_uri": "https://localhost:8080/"
        },
        "id": "foB9lqoigGSl",
        "outputId": "3bd77cfb-a639-4b83-c274-8e4cc2e0736e"
      },
      "execution_count": 11,
      "outputs": [
        {
          "output_type": "stream",
          "name": "stdout",
          "text": [
            "[[5, 3, 2, 4], [5, 3, 2, 7], [6, 3, 2, 4], [8, 6, 9, 2, 4, 10, 11, 12, 13]]\n",
            "[[ 5  3  2  4  0]\n",
            " [ 5  3  2  7  0]\n",
            " [ 6  3  2  4  0]\n",
            " [ 4 10 11 12 13]]\n"
          ]
        }
      ]
    },
    {
      "cell_type": "code",
      "source": [
        "# 3. training a neural net to classify text as to whether the text is sarcastic or not\n",
        "\n",
        "import json\n",
        "\n",
        "with open('sarcasm.json','r') as f:\n",
        "    lines = f.readlines()\n",
        "    s = '['\n",
        "    for line in lines:\n",
        "        #each line already had a '\\n' so I had to strip it out, add a comma, and put the '\\n' back in\n",
        "        s+= line[:-1] +',\\n'\n",
        "    #the last line will have an extra ',\\n' which we need to get rid of and cap with a ']'\n",
        "    s= s[:-2]+']'\n",
        "with open('sarcasm.json', 'w') as f:\n",
        "    f.write(s)\n",
        "\n",
        "with open('sarcasm.json', 'r') as f:\n",
        "    datastore = json.load(f)\n",
        "sentences=[]\n",
        "labels=[]\n",
        "urls=[]\n",
        "\n",
        "for item in datastore:\n",
        "  sentences.append(item['headline'])\n",
        "  labels.append(item['is_sarcastic'])\n",
        "  urls.append(item['article_link'])"
      ],
      "metadata": {
        "id": "iAU_pG0-oGvd"
      },
      "execution_count": 13,
      "outputs": []
    },
    {
      "cell_type": "code",
      "source": [
        "# adding the tokenizers\n",
        "from tensorflow.keras.preprocessing.text import Tokenizer\n",
        "from tensorflow.keras.preprocessing.sequence import pad_sequences\n",
        "tokenizer=Tokenizer(oov_token='<OOV>')\n",
        "tokenizer.fit_on_texts(sentences)\n",
        "word_index=tokenizer.word_index\n",
        "\n",
        "sequences=tokenizer.texts_to_sequences(sentences)\n",
        "padded=pad_sequences(sequences,padding='post')\n",
        "print(padded[0])\n",
        "print(padded.shape)"
      ],
      "metadata": {
        "colab": {
          "base_uri": "https://localhost:8080/"
        },
        "id": "RrxN9SVHo6kd",
        "outputId": "b7fd1802-03b1-41df-9cb7-6cb8ca7ea7f5"
      },
      "execution_count": 14,
      "outputs": [
        {
          "output_type": "stream",
          "name": "stdout",
          "text": [
            "[  308 15115   679  3337  2298    48   382  2576 15116     6  2577  8434\n",
            "     0     0     0     0     0     0     0     0     0     0     0     0\n",
            "     0     0     0     0     0     0     0     0     0     0     0     0\n",
            "     0     0     0     0]\n",
            "(26709, 40)\n"
          ]
        }
      ]
    },
    {
      "cell_type": "code",
      "source": [
        "# we need to have training and testing data so we have to split up our dataset\n",
        "training_size=20000\n",
        "training_sentences=sentences[0:training_size]\n",
        "testing_sentences=sentences[training_size:]\n",
        "training_labels=labels[0:training_size]\n",
        "testing_labels=labels[training_size:]"
      ],
      "metadata": {
        "id": "PRoyQLaPqZdf"
      },
      "execution_count": null,
      "outputs": []
    }
  ]
}